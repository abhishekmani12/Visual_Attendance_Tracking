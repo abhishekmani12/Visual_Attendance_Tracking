{
 "cells": [
  {
   "cell_type": "code",
   "execution_count": 1,
   "id": "e8a880c4-c40e-48cb-afd2-7a6f824f67e9",
   "metadata": {},
   "outputs": [],
   "source": [
    "import pandas as pd\n",
    "import dlib\n",
    "import numpy as np\n",
    "import PIL.Image\n",
    "\n",
    "\n",
    "\n",
    "hog_face_detector = dlib.get_frontal_face_detector()\n",
    "\n",
    "cnn_face_detection_model =\"models/mmod_human_face_detector.dat\"\n",
    "cnn_face_detector = dlib.cnn_face_detection_model_v1(cnn_face_detection_model)\n",
    "\n",
    "predictor_68_point_model =\"models/shape_predictor_68_face_landmarks.dat\"\n",
    "pose_predictor = dlib.shape_predictor(predictor_68_point_model)\n",
    "\n",
    "face_encoder_model = \"models/dlib_face_recognition_resnet_model_v1.dat\"\n",
    "face_encoder = dlib.face_recognition_model_v1(face_encoder_model)\n",
    "\n",
    "\n",
    "'''\n",
    "def _css_to_rect(css):\n",
    "  \n",
    "    return dlib.rectangle(css[3], css[0], css[1], css[2])\n",
    "'''\n",
    "\n",
    "\n",
    "def face_box(img, model,upsample=1):\n",
    "  \n",
    "    if model == \"hog\":\n",
    "        return hog_face_detector(img, upsample)\n",
    "    else:\n",
    "        return cnn_face_detector(img, upsample)\n",
    "    \n",
    "\n",
    "def face_landmarks(image, model):\n",
    "    \n",
    "    face_locations = None\n",
    "    face_locations = face_box(image, model)\n",
    "    \n",
    "    #face_locations = [_css_to_rect(face_location) for face_location in face_locations]\n",
    "\n",
    "\n",
    "    return [pose_predictor(image, face_location) for face_location in face_locations]\n",
    "\n",
    "\n",
    "def encoding(file, model, mode=\"val\" ,jitter=1):\n",
    "  \n",
    "    im = PIL.Image.open(file)\n",
    "    im = im.convert('RGB')\n",
    "    image=np.array(im)\n",
    "    \n",
    "    landmarks = face_landmarks(image, model)\n",
    "    \n",
    "    emb=[np.array(face_encoder.compute_face_descriptor(image, landmark_set, jitter)) for landmark_set in landmarks]\n",
    "    \n",
    "    if mode == \"val\":\n",
    "        return emb[0]\n",
    "    elif mode == \"df\":\n",
    "        face_id=file.split(\"/\")[1]\n",
    "        data={ 'value':emb, 'face_id':face_id}\n",
    "        return pd.DataFrame(data)\n",
    "        \n"
   ]
  },
  {
   "cell_type": "code",
   "execution_count": 60,
   "id": "efe5c4b5-57e8-435e-9217-2d1b7e717f67",
   "metadata": {},
   "outputs": [
    {
     "data": {
      "text/plain": [
       "array([-7.68758133e-02,  8.07195455e-02,  4.53626625e-02, -4.91565606e-03,\n",
       "       -1.23001970e-02,  6.75523467e-03, -5.74428141e-02,  2.89708767e-02,\n",
       "        1.52469456e-01, -1.58578940e-02,  2.99567014e-01, -3.00670117e-02,\n",
       "       -2.19942316e-01, -1.17771395e-01,  7.04045361e-03,  1.59434944e-01,\n",
       "       -1.44762412e-01, -4.36058342e-02, -3.52781750e-02, -1.82294529e-02,\n",
       "        7.26381391e-02,  1.98658220e-02,  8.95263627e-03,  9.60184559e-02,\n",
       "       -1.54888734e-01, -3.85875016e-01, -2.68948060e-02, -1.73808247e-01,\n",
       "        1.90863926e-02, -1.56976208e-01, -3.69655117e-02,  1.20084658e-01,\n",
       "       -1.53277144e-01, -2.83410084e-02,  5.21044200e-03,  7.11592212e-02,\n",
       "       -2.09531223e-04, -1.39605079e-03,  1.83348596e-01,  3.04397848e-02,\n",
       "       -1.71753630e-01,  4.64713238e-02, -7.75226019e-03,  2.80521750e-01,\n",
       "        1.25044703e-01,  9.40869302e-02,  9.67879221e-02,  3.32537293e-02,\n",
       "        1.04880728e-01, -2.33746156e-01,  3.41528207e-02,  1.10474579e-01,\n",
       "        8.73275325e-02,  7.74619356e-02,  1.47228306e-02, -1.93163037e-01,\n",
       "       -3.37900706e-02,  3.77439931e-02, -1.42197952e-01,  9.46139917e-02,\n",
       "        2.06118692e-02, -7.16029182e-02,  2.64719804e-03,  3.08639091e-03,\n",
       "        2.69736409e-01,  3.91809782e-03, -1.44032195e-01, -5.72554022e-02,\n",
       "        1.69275820e-01, -7.39465281e-02, -1.79471355e-02,  9.37858224e-02,\n",
       "       -1.18928567e-01, -1.92035422e-01, -2.20510602e-01,  1.37309134e-01,\n",
       "        3.79644692e-01,  1.16253711e-01, -2.02708855e-01,  5.43665849e-02,\n",
       "       -1.58890113e-01, -1.43192187e-02, -2.77310982e-02,  1.86931770e-02,\n",
       "       -3.37194279e-02,  5.10745943e-02, -1.18737429e-01, -6.14570314e-03,\n",
       "        2.53223300e-01, -1.31313561e-03,  1.13336593e-02,  2.59837419e-01,\n",
       "        9.47042741e-03,  4.54688519e-02,  1.87634230e-02,  9.72995441e-03,\n",
       "       -6.29741177e-02, -4.22155708e-02, -9.90267619e-02, -3.68857831e-02,\n",
       "        5.11923730e-02, -1.37919128e-01, -3.43432054e-02,  4.29351665e-02,\n",
       "       -2.61453956e-01,  1.91684172e-01,  1.83518324e-02,  5.20807272e-03,\n",
       "        3.01692891e-03,  1.68606475e-01, -1.65600136e-01, -1.50401108e-02,\n",
       "        1.63830131e-01, -2.79549330e-01,  2.42201224e-01,  1.85372472e-01,\n",
       "        1.93517759e-01,  1.65015802e-01,  1.11867763e-01,  6.64337575e-02,\n",
       "       -5.78492694e-03, -7.12146983e-02, -1.16674669e-01, -1.51892319e-01,\n",
       "        1.10032685e-01,  2.00420544e-02,  5.21556512e-02,  5.32100312e-02])"
      ]
     },
     "execution_count": 60,
     "metadata": {},
     "output_type": "execute_result"
    }
   ],
   "source": [
    "enc1=0\n",
    "file1=\"Dataset/401010/lewishamilton_test.jpg\"\n",
    "enc1=encoding(file1,\"hog\") #FATAL ERROR IF model=\"cnn\"\n",
    "enc1"
   ]
  },
  {
   "cell_type": "code",
   "execution_count": 3,
   "id": "3e5a672a-b619-45bd-9157-118bb6880f6f",
   "metadata": {},
   "outputs": [
    {
     "data": {
      "text/html": [
       "<div>\n",
       "<style scoped>\n",
       "    .dataframe tbody tr th:only-of-type {\n",
       "        vertical-align: middle;\n",
       "    }\n",
       "\n",
       "    .dataframe tbody tr th {\n",
       "        vertical-align: top;\n",
       "    }\n",
       "\n",
       "    .dataframe thead th {\n",
       "        text-align: right;\n",
       "    }\n",
       "</style>\n",
       "<table border=\"1\" class=\"dataframe\">\n",
       "  <thead>\n",
       "    <tr style=\"text-align: right;\">\n",
       "      <th></th>\n",
       "      <th>value</th>\n",
       "      <th>face_id</th>\n",
       "    </tr>\n",
       "  </thead>\n",
       "  <tbody>\n",
       "    <tr>\n",
       "      <th>0</th>\n",
       "      <td>[-0.07687581330537796, 0.08071954548358917, 0....</td>\n",
       "      <td>401010</td>\n",
       "    </tr>\n",
       "  </tbody>\n",
       "</table>\n",
       "</div>"
      ],
      "text/plain": [
       "                                               value face_id\n",
       "0  [-0.07687581330537796, 0.08071954548358917, 0....  401010"
      ]
     },
     "execution_count": 3,
     "metadata": {},
     "output_type": "execute_result"
    }
   ],
   "source": [
    "enc1=0\n",
    "file1=\"Dataset/401010/lewishamilton_test.jpg\"\n",
    "enc1=encoding(file1,\"hog\",\"df\") #FATAL ERROR IF model=\"cnn\"\n",
    "enc1"
   ]
  },
  {
   "cell_type": "code",
   "execution_count": 5,
   "id": "3b61a72e-414e-435e-88a3-00ac9ef85926",
   "metadata": {},
   "outputs": [],
   "source": [
    "!python embedding.py"
   ]
  },
  {
   "cell_type": "code",
   "execution_count": 8,
   "id": "b2a7889d-c16d-45f6-9a11-d96a05b08148",
   "metadata": {},
   "outputs": [
    {
     "data": {
      "text/plain": [
       "array([-7.68758133e-02,  8.07195455e-02,  4.53626625e-02, -4.91565606e-03,\n",
       "       -1.23001970e-02,  6.75523467e-03, -5.74428141e-02,  2.89708767e-02,\n",
       "        1.52469456e-01, -1.58578940e-02,  2.99567014e-01, -3.00670117e-02,\n",
       "       -2.19942316e-01, -1.17771395e-01,  7.04045361e-03,  1.59434944e-01,\n",
       "       -1.44762412e-01, -4.36058342e-02, -3.52781750e-02, -1.82294529e-02,\n",
       "        7.26381391e-02,  1.98658220e-02,  8.95263627e-03,  9.60184559e-02,\n",
       "       -1.54888734e-01, -3.85875016e-01, -2.68948060e-02, -1.73808247e-01,\n",
       "        1.90863926e-02, -1.56976208e-01, -3.69655117e-02,  1.20084658e-01,\n",
       "       -1.53277144e-01, -2.83410084e-02,  5.21044200e-03,  7.11592212e-02,\n",
       "       -2.09531223e-04, -1.39605079e-03,  1.83348596e-01,  3.04397848e-02,\n",
       "       -1.71753630e-01,  4.64713238e-02, -7.75226019e-03,  2.80521750e-01,\n",
       "        1.25044703e-01,  9.40869302e-02,  9.67879221e-02,  3.32537293e-02,\n",
       "        1.04880728e-01, -2.33746156e-01,  3.41528207e-02,  1.10474579e-01,\n",
       "        8.73275325e-02,  7.74619356e-02,  1.47228306e-02, -1.93163037e-01,\n",
       "       -3.37900706e-02,  3.77439931e-02, -1.42197952e-01,  9.46139917e-02,\n",
       "        2.06118692e-02, -7.16029182e-02,  2.64719804e-03,  3.08639091e-03,\n",
       "        2.69736409e-01,  3.91809782e-03, -1.44032195e-01, -5.72554022e-02,\n",
       "        1.69275820e-01, -7.39465281e-02, -1.79471355e-02,  9.37858224e-02,\n",
       "       -1.18928567e-01, -1.92035422e-01, -2.20510602e-01,  1.37309134e-01,\n",
       "        3.79644692e-01,  1.16253711e-01, -2.02708855e-01,  5.43665849e-02,\n",
       "       -1.58890113e-01, -1.43192187e-02, -2.77310982e-02,  1.86931770e-02,\n",
       "       -3.37194279e-02,  5.10745943e-02, -1.18737429e-01, -6.14570314e-03,\n",
       "        2.53223300e-01, -1.31313561e-03,  1.13336593e-02,  2.59837419e-01,\n",
       "        9.47042741e-03,  4.54688519e-02,  1.87634230e-02,  9.72995441e-03,\n",
       "       -6.29741177e-02, -4.22155708e-02, -9.90267619e-02, -3.68857831e-02,\n",
       "        5.11923730e-02, -1.37919128e-01, -3.43432054e-02,  4.29351665e-02,\n",
       "       -2.61453956e-01,  1.91684172e-01,  1.83518324e-02,  5.20807272e-03,\n",
       "        3.01692891e-03,  1.68606475e-01, -1.65600136e-01, -1.50401108e-02,\n",
       "        1.63830131e-01, -2.79549330e-01,  2.42201224e-01,  1.85372472e-01,\n",
       "        1.93517759e-01,  1.65015802e-01,  1.11867763e-01,  6.64337575e-02,\n",
       "       -5.78492694e-03, -7.12146983e-02, -1.16674669e-01, -1.51892319e-01,\n",
       "        1.10032685e-01,  2.00420544e-02,  5.21556512e-02,  5.32100312e-02])"
      ]
     },
     "execution_count": 8,
     "metadata": {},
     "output_type": "execute_result"
    }
   ],
   "source": [
    "import embedding as emb\n",
    "\n",
    "vals=emb.encoding(file1,\"hog\")\n",
    "vals"
   ]
  }
 ],
 "metadata": {
  "kernelspec": {
   "display_name": "Python 3 (ipykernel)",
   "language": "python",
   "name": "python3"
  },
  "language_info": {
   "codemirror_mode": {
    "name": "ipython",
    "version": 3
   },
   "file_extension": ".py",
   "mimetype": "text/x-python",
   "name": "python",
   "nbconvert_exporter": "python",
   "pygments_lexer": "ipython3",
   "version": "3.9.15"
  }
 },
 "nbformat": 4,
 "nbformat_minor": 5
}
