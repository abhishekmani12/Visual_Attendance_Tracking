{
 "cells": [
  {
   "cell_type": "code",
   "execution_count": 8,
   "id": "97d548ea-72e1-4ca3-bdc1-1920389e19d0",
   "metadata": {},
   "outputs": [
    {
     "ename": "IndentationError",
     "evalue": "expected an indented block (2187411765.py, line 58)",
     "output_type": "error",
     "traceback": [
      "\u001b[0;36m  Cell \u001b[0;32mIn[8], line 58\u001b[0;36m\u001b[0m\n\u001b[0;31m    def loadmodel(path):\u001b[0m\n\u001b[0m                        ^\u001b[0m\n\u001b[0;31mIndentationError\u001b[0m\u001b[0;31m:\u001b[0m expected an indented block\n"
     ]
    }
   ],
   "source": [
    "import cv2\n",
    "import embedding as emb\n",
    "from sklearn import svm\n",
    "from PIL import Image\n",
    "from tqdm import tqdm\n",
    "import os\n",
    "import pickle as pkl\n",
    "\n",
    "def train():\n",
    "    encodings = []\n",
    "    face_id = []\n",
    "\n",
    "\n",
    "    master=os.listdir('Dataset/')\n",
    "\n",
    "\n",
    "    for face in tqdm(master):\n",
    "        sub=os.listdir(\"Dataset/\" +face)\n",
    "\n",
    "        for faceimg in sub:\n",
    "            print(faceimg)\n",
    "            file=\"Dataset/\" + face + \"/\" + faceimg\n",
    "            vals=emb.encoding(file,\"hog\")\n",
    "            encodings.append(vals)\n",
    "            face_id.append(face)\n",
    "\n",
    "\n",
    "    clf1 = svm.SVC(gamma='scale')\n",
    "    clf1.fit(encodings,face_id)\n",
    "    pkl(clf1, open('models/classifier.pkl','wb'))\n",
    "    print(\"Trained Model pickled\")\n",
    "    return clf1\n",
    "    \n",
    "def compressor(file):\n",
    "    \n",
    "    filepath = os.path.join(os.getcwd(), file)\n",
    "\n",
    "    image = Image.open(filepath)\n",
    "\n",
    "    image.save(file,\"JPEG\", \n",
    "                 optimize = True, \n",
    "                 quality = 50)\n",
    "    return\n",
    "\n",
    "def folder_compressor(folder):\n",
    "    sub=os.listdir(\"Dataset/\"+folder)\n",
    "    for faceimg in sub:\n",
    "        file=\"Dataset/\" + face + \"/\" + faceimg\n",
    "        compressor(file)\n",
    "    \n",
    "    return \n",
    "\n",
    "def pred(file, model, mode):\n",
    "    vals=emb.encoding(file,\"hog\")\n",
    "    res=model.predict([vals])\n",
    "    \n",
    "    return res[0]\n",
    "\n",
    "def loadmodel(path):\n",
    "    return model = pkl(open(path,'rb'))"
   ]
  },
  {
   "cell_type": "code",
   "execution_count": 5,
   "id": "c67f41d2-c0d6-4d54-a943-14a459194529",
   "metadata": {},
   "outputs": [
    {
     "name": "stderr",
     "output_type": "stream",
     "text": [
      "  0%|                                                                                        | 0/6 [00:00<?, ?it/s]"
     ]
    },
    {
     "name": "stdout",
     "output_type": "stream",
     "text": [
      "lewis3.jpg\n",
      "lewis2.jpeg\n",
      "lewis1.jpg\n",
      "lewis5.jpg\n",
      "lewis4.jpg\n"
     ]
    },
    {
     "name": "stderr",
     "output_type": "stream",
     "text": [
      " 17%|█████████████▎                                                                  | 1/6 [00:39<03:17, 39.43s/it]"
     ]
    },
    {
     "name": "stdout",
     "output_type": "stream",
     "text": [
      "lamar3.jpg\n",
      "lamar1.jpg\n",
      "lamar4.jpg\n",
      "lamar5.jpg\n",
      "lamar2.jpg\n"
     ]
    },
    {
     "name": "stderr",
     "output_type": "stream",
     "text": [
      " 33%|██████████████████████████▋                                                     | 2/6 [01:01<01:56, 29.19s/it]"
     ]
    },
    {
     "name": "stdout",
     "output_type": "stream",
     "text": [
      "abhishek5.jpg\n",
      "abhishek4.jpg\n",
      "abhishek2.jpg\n",
      "abhishek1.jpg\n",
      "abhishek3.jpg\n"
     ]
    },
    {
     "name": "stderr",
     "output_type": "stream",
     "text": [
      " 50%|████████████████████████████████████████                                        | 3/6 [02:08<02:19, 46.52s/it]"
     ]
    },
    {
     "name": "stdout",
     "output_type": "stream",
     "text": [
      "vikyath3.jpg\n",
      "vikyath4.jpg\n",
      "vikyath5.jpg\n",
      "vikyath1.jpg\n",
      "vikyath2.jpg\n"
     ]
    },
    {
     "name": "stderr",
     "output_type": "stream",
     "text": [
      " 67%|█████████████████████████████████████████████████████▎                          | 4/6 [02:24<01:08, 34.47s/it]"
     ]
    },
    {
     "name": "stdout",
     "output_type": "stream",
     "text": [
      "samantha3.jpg\n",
      "samantha2.jpg\n",
      "samantha4.jpg\n",
      "samantha5.jpg\n",
      "samntha1.jpg\n"
     ]
    },
    {
     "name": "stderr",
     "output_type": "stream",
     "text": [
      " 83%|██████████████████████████████████████████████████████████████████▋             | 5/6 [02:32<00:24, 24.99s/it]"
     ]
    },
    {
     "name": "stdout",
     "output_type": "stream",
     "text": [
      "beyonce4.jpg\n",
      "beyonce2.jpg\n",
      "beyonce3.jpg\n",
      "beyonce1.png\n",
      "beyonce5.jpeg\n"
     ]
    },
    {
     "name": "stderr",
     "output_type": "stream",
     "text": [
      "100%|████████████████████████████████████████████████████████████████████████████████| 6/6 [02:42<00:00, 27.00s/it]\n"
     ]
    }
   ],
   "source": [
    "clf=train()"
   ]
  },
  {
   "cell_type": "code",
   "execution_count": 7,
   "id": "f247f43d-0705-4628-a09f-6d74a7cb5582",
   "metadata": {},
   "outputs": [
    {
     "name": "stdout",
     "output_type": "stream",
     "text": [
      "vikyath\n"
     ]
    }
   ],
   "source": [
    "print(pred(\"20230206_205104.jpg\", clf, \"hog\"))"
   ]
  }
 ],
 "metadata": {
  "kernelspec": {
   "display_name": "Python 3 (ipykernel)",
   "language": "python",
   "name": "python3"
  },
  "language_info": {
   "codemirror_mode": {
    "name": "ipython",
    "version": 3
   },
   "file_extension": ".py",
   "mimetype": "text/x-python",
   "name": "python",
   "nbconvert_exporter": "python",
   "pygments_lexer": "ipython3",
   "version": "3.9.15"
  }
 },
 "nbformat": 4,
 "nbformat_minor": 5
}
