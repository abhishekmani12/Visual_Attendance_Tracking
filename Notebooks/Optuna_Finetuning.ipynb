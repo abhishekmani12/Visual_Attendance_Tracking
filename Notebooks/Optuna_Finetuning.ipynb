{
 "cells": [
  {
   "cell_type": "code",
   "execution_count": 17,
   "id": "aac484eb-97e2-4108-8c51-7bef30274c52",
   "metadata": {},
   "outputs": [],
   "source": [
    "import cv2\n",
    "import embedding as emb\n",
    "from sklearn import svm\n",
    "from PIL import Image\n",
    "from tqdm import tqdm\n",
    "import os\n",
    "import pickle as pkl\n",
    "\n",
    "\n",
    "def train(algorithm=\"linear\"): #classifier train function\n",
    "    encodings = []\n",
    "    face_id = []\n",
    "\n",
    "\n",
    "    master=os.listdir('Dataset/') #get dataset directory\n",
    "\n",
    "\n",
    "    for face in tqdm(master): #loop through subfolders in Dataset folder\n",
    "        sub=os.listdir(\"Dataset/\" +face)\n",
    "        print(f\"{face}'s face encoding in progress\")\n",
    "        for faceimg in sub: #loop throuigh images present in each sub folder\n",
    "            file=\"Dataset/\" + face + \"/\" + faceimg\n",
    "            vals=emb.encoding(file,\"hog\") #pass file to encodings function of embedding script to get 128 face encoding values for each face\n",
    "            encodings.append(vals) #appending encodings to list\n",
    "            face_id.append(face) #append face name to list\n",
    "    \n",
    "    if algorithm == \"linear\": #setting the required kernel for svm\n",
    "        kern='linear'\n",
    "    elif algorithm == \"rbf\":\n",
    "        kern=\"rbf\"\n",
    "    print(\"Training\")    \n",
    "    clf1 = svm.SVC(C=7766.325241554844, kernel=kern, gamma='auto') #instantiate svm\n",
    "    \n",
    "    '''\n",
    "    res=sklearn.model_selection.cross_val_score(clf1, encodings, face_id, n_jobs=-1, cv=3)\n",
    "    accuracy=res.mean()\n",
    "    print(accuracy)\n",
    "    '''\n",
    "    \n",
    "    #clf1.fit(encodings,face_id) #train\n",
    "    #pkl.dump(clf1,open('models/classifier.pkl','wb')) #save\n",
    "    print(\"SVM Model pickled\")\n",
    "    return clf1 #return model object\n",
    "\n",
    "        \n",
    "def compressor(file): #image compressor function\n",
    "    \n",
    "    filepath = os.path.join(os.getcwd(), file)\n",
    "\n",
    "    image = Image.open(filepath)\n",
    "\n",
    "    image.save(file,\"JPEG\", \n",
    "                 optimize = True, \n",
    "                 quality = 50)\n",
    "    return\n",
    "\n",
    "def folder_compressor(folder): #batch compressor function\n",
    "    sub=os.listdir(\"Dataset/\"+folder)\n",
    "    for faceimg in sub:\n",
    "        file=\"Dataset/\" + face + \"/\" + faceimg\n",
    "        compressor(file)\n",
    "    \n",
    "    return \n",
    "\n",
    "def pred(file, model): #prediction function - pass image file and required model parameter\n",
    "    vals=emb.encoding(file,\"hog\") #get encoding\n",
    "    res=model.predict([vals]) #predict using encoding\n",
    "    \n",
    "    return res[0] #return 0th index of the list of list result\n",
    "\n",
    "def loadmodel(): #Load trained model from pkl format\n",
    "    model=pkl.load(open('models/classifier.pkl', 'rb'))\n",
    "    return model"
   ]
  },
  {
   "cell_type": "code",
   "execution_count": 18,
   "id": "3fbf6ce8-0aca-418e-b4ef-1251b131272f",
   "metadata": {},
   "outputs": [
    {
     "name": "stderr",
     "output_type": "stream",
     "text": [
      "  0%|                                                                                        | 0/9 [00:00<?, ?it/s]"
     ]
    },
    {
     "name": "stdout",
     "output_type": "stream",
     "text": [
      "aryan's face encoding in progress\n"
     ]
    },
    {
     "name": "stderr",
     "output_type": "stream",
     "text": [
      " 11%|████████▉                                                                       | 1/9 [00:01<00:15,  1.89s/it]"
     ]
    },
    {
     "name": "stdout",
     "output_type": "stream",
     "text": [
      "Ibrahim's face encoding in progress\n"
     ]
    },
    {
     "name": "stderr",
     "output_type": "stream",
     "text": [
      " 22%|█████████████████▊                                                              | 2/9 [00:04<00:18,  2.58s/it]"
     ]
    },
    {
     "name": "stdout",
     "output_type": "stream",
     "text": [
      "lewis_hamilton's face encoding in progress\n"
     ]
    },
    {
     "name": "stderr",
     "output_type": "stream",
     "text": [
      " 33%|██████████████████████████▋                                                     | 3/9 [00:15<00:38,  6.40s/it]"
     ]
    },
    {
     "name": "stdout",
     "output_type": "stream",
     "text": [
      "abishek's face encoding in progress\n"
     ]
    },
    {
     "name": "stderr",
     "output_type": "stream",
     "text": [
      " 44%|███████████████████████████████████▌                                            | 4/9 [00:19<00:26,  5.29s/it]"
     ]
    },
    {
     "name": "stdout",
     "output_type": "stream",
     "text": [
      "abhishek's face encoding in progress\n"
     ]
    },
    {
     "name": "stderr",
     "output_type": "stream",
     "text": [
      " 56%|████████████████████████████████████████████▍                                   | 5/9 [00:38<00:41, 10.36s/it]"
     ]
    },
    {
     "name": "stdout",
     "output_type": "stream",
     "text": [
      "vikyath's face encoding in progress\n"
     ]
    },
    {
     "name": "stderr",
     "output_type": "stream",
     "text": [
      " 67%|█████████████████████████████████████████████████████▎                          | 6/9 [00:43<00:25,  8.53s/it]"
     ]
    },
    {
     "name": "stdout",
     "output_type": "stream",
     "text": [
      "samantha's face encoding in progress\n"
     ]
    },
    {
     "name": "stderr",
     "output_type": "stream",
     "text": [
      " 78%|██████████████████████████████████████████████████████████████▏                 | 7/9 [00:46<00:13,  6.62s/it]"
     ]
    },
    {
     "name": "stdout",
     "output_type": "stream",
     "text": [
      "beyonce's face encoding in progress\n"
     ]
    },
    {
     "name": "stderr",
     "output_type": "stream",
     "text": [
      " 89%|███████████████████████████████████████████████████████████████████████         | 8/9 [00:49<00:05,  5.37s/it]"
     ]
    },
    {
     "name": "stdout",
     "output_type": "stream",
     "text": [
      "surya's face encoding in progress\n"
     ]
    },
    {
     "name": "stderr",
     "output_type": "stream",
     "text": [
      "100%|████████████████████████████████████████████████████████████████████████████████| 9/9 [00:51<00:00,  5.73s/it]"
     ]
    },
    {
     "name": "stdout",
     "output_type": "stream",
     "text": [
      "Training\n"
     ]
    },
    {
     "name": "stderr",
     "output_type": "stream",
     "text": [
      "\n"
     ]
    },
    {
     "name": "stdout",
     "output_type": "stream",
     "text": [
      "0.9777777777777779\n",
      "SVM Model pickled\n"
     ]
    },
    {
     "data": {
      "text/plain": [
       "SVC(C=7766.325241554844, gamma='auto', kernel='linear')"
      ]
     },
     "execution_count": 18,
     "metadata": {},
     "output_type": "execute_result"
    }
   ],
   "source": [
    "train()"
   ]
  },
  {
   "cell_type": "code",
   "execution_count": 15,
   "id": "b66bfded-d6f9-4679-bc49-9158e7dbe41e",
   "metadata": {},
   "outputs": [],
   "source": [
    "model=loadmodel()"
   ]
  },
  {
   "cell_type": "code",
   "execution_count": 16,
   "id": "2ddf1238-aac8-47ca-bf03-3b2ba56ff5a2",
   "metadata": {},
   "outputs": [
    {
     "data": {
      "text/plain": [
       "'abhishek'"
      ]
     },
     "execution_count": 16,
     "metadata": {},
     "output_type": "execute_result"
    }
   ],
   "source": [
    "pred(\"me.jpg\",model)"
   ]
  },
  {
   "cell_type": "code",
   "execution_count": 19,
   "id": "7f9b3c44-43c9-4392-9d1b-6440ea840966",
   "metadata": {},
   "outputs": [
    {
     "name": "stderr",
     "output_type": "stream",
     "text": [
      "  0%|                                                                                        | 0/9 [00:00<?, ?it/s]"
     ]
    },
    {
     "name": "stdout",
     "output_type": "stream",
     "text": [
      "aryan's face training in progress\n"
     ]
    },
    {
     "name": "stderr",
     "output_type": "stream",
     "text": [
      " 11%|████████▉                                                                       | 1/9 [00:01<00:15,  1.96s/it]"
     ]
    },
    {
     "name": "stdout",
     "output_type": "stream",
     "text": [
      "Ibrahim's face training in progress\n"
     ]
    },
    {
     "name": "stderr",
     "output_type": "stream",
     "text": [
      " 22%|█████████████████▊                                                              | 2/9 [00:05<00:19,  2.79s/it]"
     ]
    },
    {
     "name": "stdout",
     "output_type": "stream",
     "text": [
      "lewis_hamilton's face training in progress\n"
     ]
    },
    {
     "name": "stderr",
     "output_type": "stream",
     "text": [
      " 33%|██████████████████████████▋                                                     | 3/9 [00:17<00:41,  6.86s/it]"
     ]
    },
    {
     "name": "stdout",
     "output_type": "stream",
     "text": [
      "abishek's face training in progress\n"
     ]
    },
    {
     "name": "stderr",
     "output_type": "stream",
     "text": [
      " 44%|███████████████████████████████████▌                                            | 4/9 [00:20<00:28,  5.68s/it]"
     ]
    },
    {
     "name": "stdout",
     "output_type": "stream",
     "text": [
      "abhishek's face training in progress\n"
     ]
    },
    {
     "name": "stderr",
     "output_type": "stream",
     "text": [
      " 56%|████████████████████████████████████████████▍                                   | 5/9 [00:41<00:43, 10.98s/it]"
     ]
    },
    {
     "name": "stdout",
     "output_type": "stream",
     "text": [
      "vikyath's face training in progress\n"
     ]
    },
    {
     "name": "stderr",
     "output_type": "stream",
     "text": [
      " 67%|█████████████████████████████████████████████████████▎                          | 6/9 [00:46<00:27,  9.01s/it]"
     ]
    },
    {
     "name": "stdout",
     "output_type": "stream",
     "text": [
      "samantha's face training in progress\n"
     ]
    },
    {
     "name": "stderr",
     "output_type": "stream",
     "text": [
      " 78%|██████████████████████████████████████████████████████████████▏                 | 7/9 [00:49<00:13,  6.98s/it]"
     ]
    },
    {
     "name": "stdout",
     "output_type": "stream",
     "text": [
      "beyonce's face training in progress\n"
     ]
    },
    {
     "name": "stderr",
     "output_type": "stream",
     "text": [
      " 89%|███████████████████████████████████████████████████████████████████████         | 8/9 [00:52<00:05,  5.76s/it]"
     ]
    },
    {
     "name": "stdout",
     "output_type": "stream",
     "text": [
      "surya's face training in progress\n"
     ]
    },
    {
     "name": "stderr",
     "output_type": "stream",
     "text": [
      "100%|████████████████████████████████████████████████████████████████████████████████| 9/9 [00:55<00:00,  6.16s/it]\n",
      "\u001b[32m[I 2023-02-15 20:53:22,655]\u001b[0m A new study created in memory with name: no-name-8051f422-2937-46a0-bd2e-236119a3cf48\u001b[0m\n",
      "\u001b[32m[I 2023-02-15 20:53:22,997]\u001b[0m Trial 0 finished with value: 0.9777777777777779 and parameters: {'svc_c': 3776350.9581755856}. Best is trial 0 with value: 0.9777777777777779.\u001b[0m\n",
      "\u001b[32m[I 2023-02-15 20:53:23,329]\u001b[0m Trial 1 finished with value: 0.9777777777777779 and parameters: {'svc_c': 286651217.6011941}. Best is trial 0 with value: 0.9777777777777779.\u001b[0m\n",
      "\u001b[32m[I 2023-02-15 20:53:23,341]\u001b[0m Trial 2 finished with value: 0.9777777777777779 and parameters: {'svc_c': 128.86417042220836}. Best is trial 0 with value: 0.9777777777777779.\u001b[0m\n",
      "\u001b[32m[I 2023-02-15 20:53:23,352]\u001b[0m Trial 3 finished with value: 0.18253968253968256 and parameters: {'svc_c': 3.077380669727699e-10}. Best is trial 0 with value: 0.9777777777777779.\u001b[0m\n",
      "\u001b[32m[I 2023-02-15 20:53:23,363]\u001b[0m Trial 4 finished with value: 1.0 and parameters: {'svc_c': 6.244655802405455}. Best is trial 4 with value: 1.0.\u001b[0m\n",
      "\u001b[32m[I 2023-02-15 20:53:23,375]\u001b[0m Trial 5 finished with value: 0.18253968253968256 and parameters: {'svc_c': 1.1520097788915439e-05}. Best is trial 4 with value: 1.0.\u001b[0m\n",
      "\u001b[32m[I 2023-02-15 20:53:23,388]\u001b[0m Trial 6 finished with value: 0.18253968253968256 and parameters: {'svc_c': 5.535967580485664e-07}. Best is trial 4 with value: 1.0.\u001b[0m\n",
      "\u001b[32m[I 2023-02-15 20:53:23,399]\u001b[0m Trial 7 finished with value: 0.9777777777777779 and parameters: {'svc_c': 4361401.246741132}. Best is trial 4 with value: 1.0.\u001b[0m\n",
      "\u001b[32m[I 2023-02-15 20:53:23,410]\u001b[0m Trial 8 finished with value: 0.9777777777777779 and parameters: {'svc_c': 1511142.3016269587}. Best is trial 4 with value: 1.0.\u001b[0m\n",
      "\u001b[32m[I 2023-02-15 20:53:23,421]\u001b[0m Trial 9 finished with value: 0.18253968253968256 and parameters: {'svc_c': 0.02830934934238899}. Best is trial 4 with value: 1.0.\u001b[0m\n",
      "\u001b[32m[I 2023-02-15 20:53:23,438]\u001b[0m Trial 10 finished with value: 0.9777777777777779 and parameters: {'svc_c': 14.31966800951036}. Best is trial 4 with value: 1.0.\u001b[0m\n",
      "\u001b[32m[I 2023-02-15 20:53:23,454]\u001b[0m Trial 11 finished with value: 0.9777777777777779 and parameters: {'svc_c': 7882.366102145124}. Best is trial 4 with value: 1.0.\u001b[0m\n",
      "\u001b[32m[I 2023-02-15 20:53:23,471]\u001b[0m Trial 12 finished with value: 0.9777777777777779 and parameters: {'svc_c': 1353996223.3213553}. Best is trial 4 with value: 1.0.\u001b[0m\n",
      "\u001b[32m[I 2023-02-15 20:53:23,484]\u001b[0m Trial 13 finished with value: 0.9777777777777779 and parameters: {'svc_c': 2198.2472729589276}. Best is trial 4 with value: 1.0.\u001b[0m\n",
      "\u001b[32m[I 2023-02-15 20:53:23,498]\u001b[0m Trial 14 finished with value: 0.18253968253968256 and parameters: {'svc_c': 0.6477634950357006}. Best is trial 4 with value: 1.0.\u001b[0m\n",
      "\u001b[32m[I 2023-02-15 20:53:23,513]\u001b[0m Trial 15 finished with value: 0.9777777777777779 and parameters: {'svc_c': 261836.24636801038}. Best is trial 4 with value: 1.0.\u001b[0m\n",
      "\u001b[32m[I 2023-02-15 20:53:23,529]\u001b[0m Trial 16 finished with value: 0.9777777777777779 and parameters: {'svc_c': 8564813523.560948}. Best is trial 4 with value: 1.0.\u001b[0m\n",
      "\u001b[32m[I 2023-02-15 20:53:23,543]\u001b[0m Trial 17 finished with value: 0.18253968253968256 and parameters: {'svc_c': 0.03402044932027852}. Best is trial 4 with value: 1.0.\u001b[0m\n",
      "\u001b[32m[I 2023-02-15 20:53:23,561]\u001b[0m Trial 18 finished with value: 0.9777777777777779 and parameters: {'svc_c': 7250.223794144737}. Best is trial 4 with value: 1.0.\u001b[0m\n",
      "\u001b[32m[I 2023-02-15 20:53:23,581]\u001b[0m Trial 19 finished with value: 0.9777777777777779 and parameters: {'svc_c': 9.682072828793515}. Best is trial 4 with value: 1.0.\u001b[0m\n"
     ]
    },
    {
     "name": "stdout",
     "output_type": "stream",
     "text": [
      "FrozenTrial(number=4, state=TrialState.COMPLETE, values=[1.0], datetime_start=datetime.datetime(2023, 2, 15, 20, 53, 23, 353425), datetime_complete=datetime.datetime(2023, 2, 15, 20, 53, 23, 363533), params={'svc_c': 6.244655802405455}, user_attrs={}, system_attrs={}, intermediate_values={}, distributions={'svc_c': FloatDistribution(high=10000000000.0, log=True, low=1e-10, step=None)}, trial_id=4, value=None)\n"
     ]
    }
   ],
   "source": [
    "import optuna\n",
    "import sklearn.model_selection\n",
    "\n",
    "encodings = []\n",
    "face_id = []\n",
    "\n",
    "\n",
    "master=os.listdir('Dataset/') #get dataset directory\n",
    "\n",
    "\n",
    "for face in tqdm(master): #loop through subfolders in Dataset folder\n",
    "    sub=os.listdir(\"Dataset/\" +face)\n",
    "    print(f\"{face}'s face training in progress\")\n",
    "    for faceimg in sub: #loop throuigh images present in each sub folder\n",
    "        file=\"Dataset/\" + face + \"/\" + faceimg\n",
    "        vals=emb.encoding(file,\"hog\") #pass file to encodings function of embedding script to get 128 face encoding values for each face\n",
    "        encodings.append(vals) #appending encodings to list\n",
    "        face_id.append(face) #append face name to list\n",
    "\n",
    "\n",
    "def objective(trial):    \n",
    "   \n",
    "\n",
    "    kern=\"rbf\"\n",
    "    hp=trial.suggest_float(\"svc_c\", 1e-10, 1e10, log=True)\n",
    "    clf1 = svm.SVC(C=hp, kernel=kern, gamma='scale') #instantiate svm\n",
    "    \n",
    "    res=sklearn.model_selection.cross_val_score(clf1, encodings, face_id, n_jobs=-1, cv=3)\n",
    "    accuracy=res.mean()\n",
    "    return accuracy\n",
    "    \n",
    "    #clf1.fit(encodings,face_id) #train\n",
    "    #pkl.dump(clf1,open('models/classifier.pkl','wb')) #save\n",
    "    #print(\"SVM Model pickled\")\n",
    "    \n",
    "study=optuna.create_study(direction=\"maximize\")\n",
    "study.optimize(objective, n_trials=20)\n",
    "print(study.best_trial)"
   ]
  },
  {
   "cell_type": "code",
   "execution_count": null,
   "id": "c32c76fe-cec2-4030-a224-ff067417b0bd",
   "metadata": {},
   "outputs": [],
   "source": []
  }
 ],
 "metadata": {
  "kernelspec": {
   "display_name": "Python 3 (ipykernel)",
   "language": "python",
   "name": "python3"
  },
  "language_info": {
   "codemirror_mode": {
    "name": "ipython",
    "version": 3
   },
   "file_extension": ".py",
   "mimetype": "text/x-python",
   "name": "python",
   "nbconvert_exporter": "python",
   "pygments_lexer": "ipython3",
   "version": "3.9.15"
  }
 },
 "nbformat": 4,
 "nbformat_minor": 5
}
